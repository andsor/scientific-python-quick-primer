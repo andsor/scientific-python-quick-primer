{
 "metadata": {
  "name": "",
  "signature": "sha256:e6d28f66dfbed467af9cc6554bc5c2b12721fdc2e0466c1ee0031ce1cd83b26d"
 },
 "nbformat": 3,
 "nbformat_minor": 0,
 "worksheets": [
  {
   "cells": [
    {
     "cell_type": "code",
     "collapsed": false,
     "input": [
      "from IPython.display import HTML"
     ],
     "language": "python",
     "metadata": {},
     "outputs": []
    },
    {
     "cell_type": "heading",
     "level": 1,
     "metadata": {},
     "source": [
      "Welcome to a quick hands-on Primer on Scientific Python!"
     ]
    },
    {
     "cell_type": "markdown",
     "metadata": {},
     "source": [
      "Glad to have you on-board!\n",
      "\n",
      "In order to save time, we prepared a Scientific Python environment for you.\n",
      "\n",
      "You reach it via the following link:"
     ]
    },
    {
     "cell_type": "heading",
     "level": 1,
     "metadata": {},
     "source": [
      "The link to the IPython Notebook"
     ]
    },
    {
     "cell_type": "code",
     "collapsed": false,
     "input": [
      "HTML(\"<h2>Link to IPython Notebook: <a href=\\\"{0}\\\">{0}</a></h2>\".format(open('notebook-url', 'r').read()))"
     ],
     "language": "python",
     "metadata": {},
     "outputs": []
    },
    {
     "cell_type": "markdown",
     "metadata": {},
     "source": [
      "Feel free to create a \"New Notebook\".\n",
      "\n",
      "Please be polite and do not mangle with other participants' notebooks, unless otherwise told so.\n",
      "\n",
      "The notebooks are not stored on your local disk.\n",
      "\n",
      "So: Please remember to **download** your notebook(s) (Menu: File -- Download as -- IPython Notebook) at the end of the session.\n",
      "\n",
      "In the meantime, we have some exercises for you.\n",
      "\n",
      "We hope they are fun!"
     ]
    },
    {
     "cell_type": "heading",
     "level": 2,
     "metadata": {},
     "source": [
      "Exercises: Basis Python"
     ]
    },
    {
     "cell_type": "heading",
     "level": 2,
     "metadata": {},
     "source": [
      "Exercises: Scientific Python"
     ]
    }
   ],
   "metadata": {}
  }
 ]
}
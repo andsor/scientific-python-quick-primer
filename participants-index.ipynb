{
 "metadata": {
  "name": "",
  "signature": "sha256:79ca80855f169020453a370c6178d19c0f08bd514b69ccf14bccefbfd2592a41"
 },
 "nbformat": 3,
 "nbformat_minor": 0,
 "worksheets": [
  {
   "cells": [
    {
     "cell_type": "code",
     "collapsed": false,
     "input": [
      "from IPython.display import HTML"
     ],
     "language": "python",
     "metadata": {},
     "outputs": []
    },
    {
     "cell_type": "heading",
     "level": 1,
     "metadata": {},
     "source": [
      "Welcome to a quick hands-on Primer on Scientific Python!"
     ]
    },
    {
     "cell_type": "markdown",
     "metadata": {},
     "source": [
      "Glad to have you on-board!\n",
      "\n",
      "In order to save time, we prepared a Scientific Python environment for you.\n",
      "\n",
      "You reach it via the following link:"
     ]
    },
    {
     "cell_type": "heading",
     "level": 1,
     "metadata": {},
     "source": [
      "The link to the IPython Notebook"
     ]
    },
    {
     "cell_type": "code",
     "collapsed": false,
     "input": [
      "HTML(\"<h2>Link to IPython Notebook: <a href=\\\"{0}\\\">{0}</a></h2>\".format(open('notebook-url', 'r').read()))"
     ],
     "language": "python",
     "metadata": {},
     "outputs": []
    },
    {
     "cell_type": "markdown",
     "metadata": {},
     "source": [
      "Feel free to create a \"New Notebook\".\n",
      "\n",
      "Please be polite and do not mangle with other participants' notebooks, unless otherwise told so.\n",
      "\n",
      "The notebooks are not stored on your local disk.\n",
      "\n",
      "So: Please remember to **download** your notebook(s) (Menu: File -- Download as -- IPython Notebook) at the end of the session.\n",
      "\n",
      "In the meantime, we have some exercises for you.\n",
      "\n",
      "We hope they are fun!"
     ]
    },
    {
     "cell_type": "heading",
     "level": 2,
     "metadata": {},
     "source": [
      "Exercises: Basis Python"
     ]
    },
    {
     "cell_type": "heading",
     "level": 2,
     "metadata": {},
     "source": [
      "Exercises: Scientific Python"
     ]
    },
    {
     "cell_type": "markdown",
     "metadata": {},
     "source": [
      "  * [The Logistic Map](scipy-exercise-logisticmap.ipynb)\n",
      "  * [The Random Walk](scipy-exercise-randomwalk.ipynb)\n",
      "  * [The Kuramoto Model](scipy-exercise-kuramotomodel.ipynb)"
     ]
    },
    {
     "cell_type": "markdown",
     "metadata": {},
     "source": [
      "# Useful resources\n",
      "We are happy to help! Also, you might find the following resources very useful:\n",
      "\n",
      "  * Cyrille Rossant, [IPython Cookbook](http://ipython-books.github.io/cookbook/)\n",
      "  * Robert Johansson, [Scientific Computing with Python](https://github.com/jrjohansson/scientific-python-lectures)\n",
      "  * [Stack Overflow](http://stackoverflow.com/questions/tagged/python)\n",
      "  * [Python Documentation](https://docs.python.org/3/)\n",
      "  * [SciPy Documentation](http://scipy.org/docs.html)\n",
      "  * [MPIDS Python Course](https://github.com/MPIDS/Python-Course)"
     ]
    }
   ],
   "metadata": {}
  }
 ]
}
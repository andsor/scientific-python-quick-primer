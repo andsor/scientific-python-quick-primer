{
 "metadata": {
  "name": "",
  "signature": "sha256:2742e936943315f31d0849fa3107fa04023b5037659075b7f34488d4f9e953cc"
 },
 "nbformat": 3,
 "nbformat_minor": 0,
 "worksheets": [
  {
   "cells": [
    {
     "cell_type": "heading",
     "level": 1,
     "metadata": {},
     "source": [
      "The Kuramoto Model"
     ]
    },
    {
     "cell_type": "markdown",
     "metadata": {},
     "source": [
      "The Kuramoto model is a paradigm of synchronization.\n",
      "\n",
      "It is given by a system of ordinary differential equations for the phases $\\theta_i$ of $N$ phase oscillators:\n",
      "\n",
      "$$\n",
      "\\frac{d\\theta_i}{dt} = \\omega_i + \\frac{K}{N} \\sum_{j=1}^{N} \\sin (\\theta_j - \\theta_i)\n",
      "$$\n",
      "\n",
      "$K$ is the global coupling strength and $\\omega_i$ the intrinsic frequency of oscillator $i$.\n",
      "\n",
      "An order parameter $r \\in [0,1]$ is given by the amplitude of the mean oscillation phase: \n",
      "\n",
      "$$\n",
      "r e^{i \\phi} = \\frac{1}{N} \\sum_{i=1}^N e^{i \\theta_i}\n",
      "$$"
     ]
    },
    {
     "cell_type": "heading",
     "level": 2,
     "metadata": {},
     "source": [
      "Exercise"
     ]
    },
    {
     "cell_type": "markdown",
     "metadata": {},
     "source": [
      "Assume that $\\omega_i$ is normally distributed with mean $0$. Visualize the trajectories of the oscillators and the order  parameter for \n",
      "\n",
      "  * an unsynchronized regime (phases are widely varying, do not reach a steady value)\n",
      "  * a phase-locked regime (phases reach stationary but distinct values)\n",
      "  * a synchronized regime (phases reach the same stationary value).\n",
      "  \n",
      "Hint: If the phases approach a linear trend, make sure the empirical mean of your $\\omega_i$ matches $0$."
     ]
    }
   ],
   "metadata": {}
  }
 ]
}
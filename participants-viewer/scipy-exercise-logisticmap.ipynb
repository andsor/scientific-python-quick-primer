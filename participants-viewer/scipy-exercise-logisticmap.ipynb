{
 "metadata": {
  "name": "",
  "signature": "sha256:2b40369d2a90e711c4e93ce75cce583c213f6c61086a1c4f8b696a8b6199c486"
 },
 "nbformat": 3,
 "nbformat_minor": 0,
 "worksheets": [
  {
   "cells": [
    {
     "cell_type": "code",
     "collapsed": false,
     "input": [
      "from IPython.display import Image"
     ],
     "language": "python",
     "metadata": {},
     "outputs": [],
     "prompt_number": 1
    },
    {
     "cell_type": "heading",
     "level": 1,
     "metadata": {},
     "source": [
      "The Logistic Map"
     ]
    },
    {
     "cell_type": "markdown",
     "metadata": {},
     "source": [
      "The logistic map is a time-discrete dynamical system in one dimension.\n",
      "It is a paradigm of chaos.\n",
      "\n",
      "Let us reproduce the transition from a stable fixed point via period doublings into the realm of strange attractors.\n",
      "\n",
      "Recall that the logistic map iterates a point $x_n \\in [0, 1]$ as\n",
      "\n",
      "$$\n",
      "x_{n+1} = r x_n (1 - x_n)\n",
      "$$\n",
      "\n",
      "with the parameter $r \\in [0, 4]$."
     ]
    },
    {
     "cell_type": "heading",
     "level": 2,
     "metadata": {},
     "source": [
      "Exercise"
     ]
    },
    {
     "cell_type": "markdown",
     "metadata": {},
     "source": [
      "Reproduce the bifurcation diagram, which plots the positions of a number of initial points after a number of iterations, against the bifurcation parameter $r$."
     ]
    },
    {
     "cell_type": "code",
     "collapsed": false,
     "input": [
      "Image(url='https://upload.wikimedia.org/wikipedia/commons/thumb/5/50/Logistic_Bifurcation_map_High_Resolution.png/1280px-Logistic_Bifurcation_map_High_Resolution.png')"
     ],
     "language": "python",
     "metadata": {},
     "outputs": [
      {
       "html": [
        "<img src=\"https://upload.wikimedia.org/wikipedia/commons/thumb/5/50/Logistic_Bifurcation_map_High_Resolution.png/1280px-Logistic_Bifurcation_map_High_Resolution.png\"/>"
       ],
       "metadata": {},
       "output_type": "pyout",
       "prompt_number": 8,
       "text": [
        "<IPython.core.display.Image at 0x7f500c1edb70>"
       ]
      }
     ],
     "prompt_number": 8
    }
   ],
   "metadata": {}
  }
 ]
}
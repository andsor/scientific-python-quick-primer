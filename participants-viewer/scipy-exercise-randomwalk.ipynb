{
 "metadata": {
  "name": "",
  "signature": "sha256:dd6b1344052a18ffc223ca148c288af0fd763bf3d123af3868768001ed861f65"
 },
 "nbformat": 3,
 "nbformat_minor": 0,
 "worksheets": [
  {
   "cells": [
    {
     "cell_type": "heading",
     "level": 1,
     "metadata": {},
     "source": [
      "The Random Walk"
     ]
    },
    {
     "cell_type": "markdown",
     "metadata": {},
     "source": [
      "A random walk in one dimension is a paradigm discrete-time stochastic process.\n",
      "\n",
      "Is is given as a sum (the position) of indepent and identically distributed random variables $X_i$ (the steps):\n",
      "\n",
      "$$\n",
      "S_n = \\sum_{i=1}^n X_i, S_0 = 0\n",
      "$$\n",
      "\n",
      "with $P(X_i = 1) = P(X_i = -1) = \\frac{1}{2}$."
     ]
    },
    {
     "cell_type": "heading",
     "level": 2,
     "metadata": {},
     "source": [
      "Exercise"
     ]
    },
    {
     "cell_type": "markdown",
     "metadata": {},
     "source": [
      "  1. Visualize the random walk by plotting a number of trajectories (sample paths, realizations of the random walk process).\n",
      "  2. Verify numerically that $S_n$ is normally distributed with mean $0$ and standard deviation $\\sqrt{n}$. (Hint: Histogram)"
     ]
    }
   ],
   "metadata": {}
  }
 ]
}